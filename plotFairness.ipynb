{
 "cells": [
  {
   "cell_type": "code",
   "execution_count": 2,
   "metadata": {},
   "outputs": [],
   "source": [
    "import pandas as pd\n",
    "import plotly.graph_objects as go\n",
    "from jupyter_dash import JupyterDash\n",
    "from dash import dcc, html\n",
    "from dash.dependencies import Input, Output\n",
    "import pickle"
   ]
  },
  {
   "cell_type": "code",
   "execution_count": 3,
   "metadata": {},
   "outputs": [],
   "source": [
    "# Importazione dizionario\n",
    "with open(\"Export\\Dizionario Metriche\\Minimized Version\\dicMetric_Fairness_Completed.pkl\", \"rb\") as file:\n",
    "    dic = pickle.load(file)"
   ]
  },
  {
   "cell_type": "code",
   "execution_count": 4,
   "metadata": {},
   "outputs": [],
   "source": [
    "df = pd.DataFrame(dic)"
   ]
  },
  {
   "cell_type": "code",
   "execution_count": 5,
   "metadata": {},
   "outputs": [],
   "source": [
    "# Importazione X_test per prendere nomi variabili e nomi valori\n",
    "with open('Export\\Dizionario Metriche\\Minimized Version\\X_test_MIN_perPlot.pkl', 'rb') as file:\n",
    "    X_test = pickle.load(file)"
   ]
  },
  {
   "cell_type": "code",
   "execution_count": 6,
   "metadata": {},
   "outputs": [],
   "source": [
    "sensitive_variables=['gender', 'age_group', 'disability', 'nationality', 'education_cv_encoded']"
   ]
  },
  {
   "cell_type": "code",
   "execution_count": 7,
   "metadata": {},
   "outputs": [],
   "source": [
    "sensitive_features = X_test[sensitive_variables]"
   ]
  },
  {
   "cell_type": "code",
   "execution_count": 8,
   "metadata": {},
   "outputs": [],
   "source": [
    "valori_univoci = []"
   ]
  },
  {
   "cell_type": "code",
   "execution_count": 9,
   "metadata": {},
   "outputs": [],
   "source": [
    "for col in sensitive_variables:\n",
    "    for unique_value in X_test[col].unique():\n",
    "        key = f\"{col}_{unique_value}\"  # Creare la chiave con il prefisso\n",
    "        valori_univoci.append(key)  # Salvare il nome della chiave nella lista"
   ]
  },
  {
   "cell_type": "code",
   "execution_count": 10,
   "metadata": {},
   "outputs": [],
   "source": [
    "def plot_radar_chart(df, groups=None):\n",
    "    if groups is None:\n",
    "        groups = [col for col in df.columns if col != \"Metric\"]\n",
    "    fig = go.Figure()\n",
    "    \n",
    "    for group in groups:\n",
    "        valid_data = df[group].notna()  # Filtra solo i valori disponibili\n",
    "        fig.add_trace(go.Scatterpolar(\n",
    "            r=df.loc[valid_data, group],\n",
    "            theta=df.loc[valid_data, \"Metric\"],\n",
    "            fill='toself',\n",
    "            name=group\n",
    "        ))\n",
    "    \n",
    "    fig.update_layout(\n",
    "        polar=dict(radialaxis=dict(visible=True)),\n",
    "        showlegend=True,\n",
    "        title=\"Metriche Aggregate/Dettagliate\"\n",
    "    )\n",
    "    return fig"
   ]
  },
  {
   "cell_type": "code",
   "execution_count": 11,
   "metadata": {},
   "outputs": [],
   "source": [
    "# Radar chart per le metriche aggregate\n",
    "aggregated_fig = plot_radar_chart(df, groups=sensitive_variables)\n",
    "\n",
    "# Radar chart per le metriche dettagliate\n",
    "detailed_fig = plot_radar_chart(df, groups=valori_univoci)"
   ]
  },
  {
   "cell_type": "code",
   "execution_count": 12,
   "metadata": {},
   "outputs": [
    {
     "name": "stderr",
     "output_type": "stream",
     "text": [
      "c:\\Users\\marco\\Documents\\UniPI\\Tesi\\PJ\\S0_MidBias\\Synthetic_cv-job_generator\\.conda\\lib\\site-packages\\dash\\dash.py:579: UserWarning:\n",
      "\n",
      "JupyterDash is deprecated, use Dash instead.\n",
      "See https://dash.plotly.com/dash-in-jupyter for more details.\n",
      "\n"
     ]
    }
   ],
   "source": [
    "# Creazione dell'app JupyterDash\n",
    "app = JupyterDash(__name__)\n",
    "\n",
    "# Layout dell'app\n",
    "app.layout = html.Div([\n",
    "    dcc.RadioItems(\n",
    "        id='view-selector',\n",
    "        options=[\n",
    "            {'label': 'Aggregated', 'value': 'aggregated'},\n",
    "            {'label': 'Detailed', 'value': 'detailed'}\n",
    "        ],\n",
    "        value='aggregated',\n",
    "        inline=True\n",
    "    ),\n",
    "    dcc.Graph(id='radar-chart', config={'displayModeBar': False})\n",
    "])"
   ]
  },
  {
   "cell_type": "code",
   "execution_count": 13,
   "metadata": {},
   "outputs": [
    {
     "data": {
      "text/html": [
       "\n",
       "        <iframe\n",
       "            width=\"100%\"\n",
       "            height=\"650\"\n",
       "            src=\"http://127.0.0.1:8050/\"\n",
       "            frameborder=\"0\"\n",
       "            allowfullscreen\n",
       "            \n",
       "        ></iframe>\n",
       "        "
      ],
      "text/plain": [
       "<IPython.lib.display.IFrame at 0x153950e8670>"
      ]
     },
     "metadata": {},
     "output_type": "display_data"
    },
    {
     "data": {
      "text/html": [
       "\n",
       "        <iframe\n",
       "            width=\"100%\"\n",
       "            height=\"650\"\n",
       "            src=\"http://127.0.0.1:8050/\"\n",
       "            frameborder=\"0\"\n",
       "            allowfullscreen\n",
       "            \n",
       "        ></iframe>\n",
       "        "
      ],
      "text/plain": [
       "<IPython.lib.display.IFrame at 0x15383e15d30>"
      ]
     },
     "metadata": {},
     "output_type": "display_data"
    }
   ],
   "source": [
    "# Callback per aggiornare il grafico\n",
    "@app.callback(\n",
    "    Output('radar-chart', 'figure'),\n",
    "    [Input('view-selector', 'value')]\n",
    ")\n",
    "def update_chart(view):\n",
    "    if view == 'aggregated':\n",
    "        return aggregated_fig\n",
    "    elif view == 'detailed':\n",
    "        return detailed_fig\n",
    "\n",
    "# Avvio del server Dash nel notebook\n",
    "app.run_server(mode=\"inline\")"
   ]
  },
  {
   "cell_type": "code",
   "execution_count": 14,
   "metadata": {},
   "outputs": [],
   "source": [
    "import plotly.io as pio\n",
    "pio.write_html(aggregated_fig, file='plot_interattivo_agg.html', auto_open=True)\n",
    "pio.write_html(detailed_fig, file='plot_interattivo_det.html', auto_open=True)"
   ]
  }
 ],
 "metadata": {
  "kernelspec": {
   "display_name": "Python 3",
   "language": "python",
   "name": "python3"
  },
  "language_info": {
   "codemirror_mode": {
    "name": "ipython",
    "version": 3
   },
   "file_extension": ".py",
   "mimetype": "text/x-python",
   "name": "python",
   "nbconvert_exporter": "python",
   "pygments_lexer": "ipython3",
   "version": "3.8.19"
  }
 },
 "nbformat": 4,
 "nbformat_minor": 2
}

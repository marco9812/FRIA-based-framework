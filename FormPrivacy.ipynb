{
 "cells": [
  {
   "cell_type": "code",
   "execution_count": 1,
   "metadata": {},
   "outputs": [
    {
     "data": {
      "text/html": [
       "\n",
       "        <iframe\n",
       "            width=\"100%\"\n",
       "            height=\"650\"\n",
       "            src=\"http://127.0.0.1:8050/\"\n",
       "            frameborder=\"0\"\n",
       "            allowfullscreen\n",
       "            \n",
       "        ></iframe>\n",
       "        "
      ],
      "text/plain": [
       "<IPython.lib.display.IFrame at 0x29ae92b2df0>"
      ]
     },
     "metadata": {},
     "output_type": "display_data"
    }
   ],
   "source": [
    "from dash import Dash, html, dcc, Input, Output, State\n",
    "import pandas as pd\n",
    "import pickle\n",
    "\n",
    "\n",
    "with open(\"Export\\Dizionario Metriche\\Minimized Version\\dicMetric_Privacy_Completed.pkl\", \"rb\") as file:\n",
    "    dicMetric_Privacy_Completed = pickle.load(file)\n",
    "\n",
    "# Creare il DataFrame di partenza\n",
    "df = pd.DataFrame(dicMetric_Privacy_Completed)\n",
    "\n",
    "# Creare l'app Dash\n",
    "app = Dash(__name__)\n",
    "\n",
    "# Layout dell'app\n",
    "app.layout = html.Div([\n",
    "    html.H1(\"Privacy Metrics Form\", style={\"textAlign\": \"center\"}),\n",
    "\n",
    "    # Tabella dinamica con input per impatti\n",
    "    html.Div([\n",
    "        html.Table([\n",
    "            html.Tr([html.Th(\"Metric\"), html.Th(\"Value\"), html.Th(\"Impact (0-10)\")]),\n",
    "            *[html.Tr([\n",
    "                html.Td(df.iloc[i]['Metric']),\n",
    "                html.Td(f\"{df.iloc[i]['Valore']:.2f}\", style={\"textAlign\": \"center\"} ),\n",
    "                html.Td(dcc.Input(\n",
    "                    id=f\"impact-{i}\", type=\"number\", min=0, max=10, step=1, value=0\n",
    "                ), style={\"textAlign\": \"center\"})\n",
    "            ]) for i in range(len(df))]\n",
    "        ], style={\"width\": \"80%\", \"margin\": \"auto\", \"border\": \"1px solid black\"})\n",
    "    ], style={\"marginBottom\": \"20px\"}),\n",
    "\n",
    "    # Bottone per calcolare la metrica globale\n",
    "    html.Div([\n",
    "        html.Button(\"Global Metric Calculation\", id=\"calcola-button\", n_clicks=0, style={\"marginTop\": \"10px\"}),\n",
    "        html.Div(id=\"output-globale\", style={\"marginTop\": \"20px\", \"fontSize\": \"18px\"})\n",
    "    ], style={\"textAlign\": \"center\"})\n",
    "])\n",
    "\n",
    "# Callback per calcolare la metrica globale\n",
    "@app.callback(\n",
    "    Output(\"output-globale\", \"children\"),\n",
    "    Input(\"calcola-button\", \"n_clicks\"),\n",
    "    [State(f\"impact-{i}\", \"value\") for i in range(len(df))]\n",
    ")\n",
    "def calcola_metrica_globale(n_clicks, *impacts):\n",
    "    if n_clicks == 0:\n",
    "        return \"Enter the impact values ​​and press the button to calculate.\"\n",
    "\n",
    "    # Organizzare gli impatti\n",
    "    impacts = list(impacts)\n",
    "    totale_pesato = 0\n",
    "    somma_impatti = 0\n",
    "\n",
    "    for i in range(len(df)):\n",
    "        valore_metrica = df.iloc[i]['Valore']\n",
    "        impatto = impacts[i]\n",
    "        totale_pesato += valore_metrica * impatto\n",
    "        somma_impatti += impatto\n",
    "\n",
    "    # Calcolo della metrica globale\n",
    "    if somma_impatti > 0:\n",
    "        metrica_globale = totale_pesato / somma_impatti\n",
    "        return f\"Global Metric: {metrica_globale:.2f}\"\n",
    "    else:\n",
    "        return \"Error: The sum of the impacts is zero. Enter at least one impact greater than zero.\"\n",
    "\n",
    "# Avvio dell'app (solo se eseguito in un ambiente compatibile)\n",
    "if __name__ == \"__main__\":\n",
    "    app.run_server(debug=True)\n"
   ]
  }
 ],
 "metadata": {
  "kernelspec": {
   "display_name": "Python 3",
   "language": "python",
   "name": "python3"
  },
  "language_info": {
   "codemirror_mode": {
    "name": "ipython",
    "version": 3
   },
   "file_extension": ".py",
   "mimetype": "text/x-python",
   "name": "python",
   "nbconvert_exporter": "python",
   "pygments_lexer": "ipython3",
   "version": "3.8.19"
  }
 },
 "nbformat": 4,
 "nbformat_minor": 2
}

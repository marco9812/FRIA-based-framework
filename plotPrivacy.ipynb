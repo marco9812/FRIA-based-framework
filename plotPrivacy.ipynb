{
 "cells": [
  {
   "cell_type": "code",
   "execution_count": 1,
   "metadata": {},
   "outputs": [
    {
     "name": "stdout",
     "output_type": "stream",
     "text": [
      "Radar plot salvato come 'radar_plot_privacy_metrics.html'. Aprilo nel browser per visualizzarlo.\n"
     ]
    }
   ],
   "source": [
    "import pickle\n",
    "import plotly.graph_objects as go\n",
    "\n",
    "# Caricare il file inviato dall'utente\n",
    "\n",
    "with open(\"Export\\Dizionario Metriche\\Minimized Version\\dicMetric_Privacy_Completed.pkl\", \"rb\") as file:\n",
    "    dicMetric_Privacy_Completed = pickle.load(file)\n",
    "\n",
    "# Estrarre le metriche e i valori\n",
    "metrics = dicMetric_Privacy_Completed['Metric']\n",
    "values = dicMetric_Privacy_Completed['Valore']\n",
    "\n",
    "# Aggiungere il primo valore alla fine per chiudere il cerchio del radar plot\n",
    "values.append(values[0])\n",
    "metrics.append(metrics[0])\n",
    "\n",
    "# Creare il radar plot\n",
    "fig = go.Figure()\n",
    "\n",
    "fig.add_trace(go.Scatterpolar(\n",
    "    r=values,  # Valori delle metriche\n",
    "    theta=metrics,  # Nomi delle metriche\n",
    "    fill='toself',  # Riempimento\n",
    "    name='Privacy Metrics'\n",
    "))\n",
    "\n",
    "# Configurare il layout del grafico\n",
    "fig.update_layout(\n",
    "    polar=dict(radialaxis=dict(visible=True)),\n",
    "    title=\"Radar Plot - Privacy Metrics\",\n",
    "    showlegend=True\n",
    ")\n",
    "\n",
    "# Salva il radar plot come file HTML\n",
    "fig.write_html(\"radar_plot_privacy_metrics.html\")\n",
    "\n",
    "print(\"Radar plot salvato come 'radar_plot_privacy_metrics.html'. Aprilo nel browser per visualizzarlo.\")\n"
   ]
  }
 ],
 "metadata": {
  "kernelspec": {
   "display_name": "Python 3",
   "language": "python",
   "name": "python3"
  },
  "language_info": {
   "codemirror_mode": {
    "name": "ipython",
    "version": 3
   },
   "file_extension": ".py",
   "mimetype": "text/x-python",
   "name": "python",
   "nbconvert_exporter": "python",
   "pygments_lexer": "ipython3",
   "version": "3.8.19"
  }
 },
 "nbformat": 4,
 "nbformat_minor": 2
}
